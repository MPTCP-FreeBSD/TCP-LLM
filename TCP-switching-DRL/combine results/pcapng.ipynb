from scapy.all import rdpcap
import pandas as pd

# Read the PCAPNG file
packets = rdpcap('myfile.pcapng')

# Filter relevant packets (adjust filter criteria as needed)
client1_packets = [pkt for pkt in packets if pkt.src == 'client1_192.168.5.251']
client2_packets = [pkt for pkt in packets if pkt.src == 'client2_192.168.5.248']

# Extract relevant data (adjust as needed)
client1_data = [(pkt.time, pkt.len) for pkt in client1_packets]
client2_data = [(pkt.time, pkt.len) for pkt in client2_packets]

# Convert to DataFrame
client1_df = pd.DataFrame(client1_data, columns=['Timestamp', 'Client1_Length'])
client2_df = pd.DataFrame(client2_data, columns=['Timestamp', 'Client2_Length'])

# Merge dataframes on Timestamp
combined_df = pd.merge(client1_df, client2_df, on='Timestamp', how='outer')

# Write to CSV
combined_df.to_csv('combined_data.csv', index=False)
